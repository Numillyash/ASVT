{
 "cells": [
  {
   "cell_type": "code",
   "execution_count": 5,
   "metadata": {},
   "outputs": [
    {
     "name": "stdout",
     "output_type": "stream",
     "text": [
      "N1, N1_, N2 = 5899 6399 1600001\n",
      "1600001\n",
      "Time for ATMega328p:  100.0000625 msec\n"
     ]
    }
   ],
   "source": [
    "def func(x, y, freq, nop1, nop2):\n",
    "    N1 = (3+nop1)*(256-x)-1\n",
    "    N1_ = (3+nop1)*256-1\n",
    "    N2 = 1 + N1 + (3 + nop2) + (N1_ + 3 + nop2)*(y-1)\n",
    "    N_a = N2\n",
    "    print(\"N1, N1_, N2 =\", N1, N1_, N2)\n",
    "    print(1-25*x+6402*y)\n",
    "    return N_a/freq\n",
    "\n",
    "\n",
    "# 54\n",
    "# 227\n",
    "# 8\n",
    "# print('Time for ATMega32: ', 1000*func(213, 241, 8*10**6, 10, 1), 'msec')\n",
    "print('Time for ATMega328p: ', 1000*func(20, 250, 16*10**6, 22, 0), 'msec')\n",
    "# print('MAX Time for ATMega328p: ', 1000*func(250, 250, 16*10**6, 30, 30), 'msec')"
   ]
  },
  {
   "cell_type": "code",
   "execution_count": null,
   "metadata": {},
   "outputs": [],
   "source": [
    "# delay:\n",
    "# \tLDI R29, 20 ; \n",
    "# \tLDI R30, 250 ; \n",
    "\t\n",
    "# delay_sub:\n",
    "# \tINC R29 ;\n",
    "#     NOP     ; \n",
    "#     NOP\n",
    "#     NOP\n",
    "#     NOP\n",
    "#     NOP\n",
    "#     NOP\n",
    "#     NOP\n",
    "#     NOP\n",
    "#     NOP\n",
    "#     NOP\n",
    "#     NOP\n",
    "#     NOP\n",
    "#     NOP\n",
    "#     NOP\n",
    "#     NOP\n",
    "#     NOP\n",
    "#     NOP\n",
    "#     NOP\n",
    "#     NOP\n",
    "#     NOP\n",
    "#     NOP\n",
    "#     NOP\n",
    "# \tBRNE delay_sub ;\n",
    "# \tNOP\n",
    "# \tDEC R30 ; \n",
    "# \tBRNE delay_sub ; \n",
    "# \tRET ; \n"
   ]
  },
  {
   "attachments": {},
   "cell_type": "markdown",
   "metadata": {},
   "source": [
    "$$ N_{вн.1} = (1_{INC} + 22_{NOP} + 2_{BRNE})(255-X) + 1_{NOP} + 1_{BRNE} = 25*(256-X)-1 $$\n",
    "$$ N_{вн.X} = (1_{INC} + 22_{NOP} + 2_{BRNE})(2^{8}-1) + 1_{NOP} + 1_{BRNE} = 25*2^8-1 $$\n",
    "$$ N_{общ} = 1_{LDI}*2 + (N_{вн.1} + 1_{DEC} + 2_{BRNE}) + (N_{вн.X} + 1_{DEC} + 2_{BRNE})*\\\\ * (Y-2) + (N_{вн.X} + 1_{DEC} + 1_{BRNE}) = 1 - 25X + 6402Y = 1600002$$\n",
    "$$ Время\\space выполнения: t = N/T = 1600002 / 16*10^6 = 0.1000000625 сек = 100.0000625 мсек$$"
   ]
  },
  {
   "cell_type": "markdown",
   "metadata": {},
   "source": []
  }
 ],
 "metadata": {
  "kernelspec": {
   "display_name": "Python 3",
   "language": "python",
   "name": "python3"
  },
  "language_info": {
   "codemirror_mode": {
    "name": "ipython",
    "version": 3
   },
   "file_extension": ".py",
   "mimetype": "text/x-python",
   "name": "python",
   "nbconvert_exporter": "python",
   "pygments_lexer": "ipython3",
   "version": "3.10.10"
  },
  "orig_nbformat": 4
 },
 "nbformat": 4,
 "nbformat_minor": 2
}
